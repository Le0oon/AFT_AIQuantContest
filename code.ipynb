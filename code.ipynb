{
 "cells": [
  {
   "cell_type": "code",
   "execution_count": 1,
   "metadata": {},
   "outputs": [],
   "source": [
    "import sys\n",
    "import os\n",
    "import pandas as pd\n",
    "import numpy as np\n",
    "import matplotlib.pyplot as plt\n",
    "import warnings\n",
    "warnings.filterwarnings('ignore')\n",
    "from tqdm import tqdm\n",
    "from multiprocessing import Pool, cpu_count\n",
    "from itertools import chain\n",
    "import lightgbm as lgb\n",
    "from sklearn.metrics import accuracy_score\n",
    "\n",
    "\n",
    "backtest_frame_path = '/home/liuqize/QuantFrame'\n",
    "sys.path.append(backtest_frame_path)\n",
    "try:\n",
    "    from MLMethods import *\n",
    "    from Factors import TSFeatureEngineer\n",
    "except:\n",
    "    error_msg = 'Please check the path of backtest_frame'\n",
    "    print(error_msg)\n",
    "\n",
    "data_path = '/data/user_home/liuqize/aft_data'\n",
    "\n",
    "%load_ext autoreload\n",
    "%autoreload 2\n",
    "%matplotlib inline"
   ]
  },
  {
   "cell_type": "markdown",
   "metadata": {},
   "source": [
    "# 读取数据"
   ]
  },
  {
   "cell_type": "markdown",
   "metadata": {},
   "source": [
    "## raw feature and label data"
   ]
  },
  {
   "cell_type": "code",
   "execution_count": 46,
   "metadata": {},
   "outputs": [
    {
     "data": {
      "text/html": [
       "<div>\n",
       "<style scoped>\n",
       "    .dataframe tbody tr th:only-of-type {\n",
       "        vertical-align: middle;\n",
       "    }\n",
       "\n",
       "    .dataframe tbody tr th {\n",
       "        vertical-align: top;\n",
       "    }\n",
       "\n",
       "    .dataframe thead th {\n",
       "        text-align: right;\n",
       "    }\n",
       "</style>\n",
       "<table border=\"1\" class=\"dataframe\">\n",
       "  <thead>\n",
       "    <tr style=\"text-align: right;\">\n",
       "      <th></th>\n",
       "      <th>date</th>\n",
       "      <th>time</th>\n",
       "      <th>sym</th>\n",
       "      <th>morning</th>\n",
       "      <th>SOIR_1</th>\n",
       "      <th>SOIR_2</th>\n",
       "      <th>SOIR_3</th>\n",
       "      <th>SOIR_4</th>\n",
       "      <th>SOIR_5</th>\n",
       "      <th>SOIR</th>\n",
       "      <th>...</th>\n",
       "      <th>MPC_skew_4</th>\n",
       "      <th>MPC_skew_5</th>\n",
       "      <th>MAX</th>\n",
       "      <th>RSJ</th>\n",
       "      <th>Dispersion</th>\n",
       "      <th>AVEslope</th>\n",
       "      <th>slope_ask</th>\n",
       "      <th>slope_bid</th>\n",
       "      <th>slope_diff</th>\n",
       "      <th>patience_all</th>\n",
       "    </tr>\n",
       "  </thead>\n",
       "  <tbody>\n",
       "    <tr>\n",
       "      <th>0</th>\n",
       "      <td>0</td>\n",
       "      <td>09:40:03</td>\n",
       "      <td>0</td>\n",
       "      <td>1</td>\n",
       "      <td>0.761194</td>\n",
       "      <td>-0.552239</td>\n",
       "      <td>-0.905512</td>\n",
       "      <td>0.394439</td>\n",
       "      <td>-0.993958</td>\n",
       "      <td>-0.264920</td>\n",
       "      <td>...</td>\n",
       "      <td>3.027714</td>\n",
       "      <td>1.613805</td>\n",
       "      <td>1.344113</td>\n",
       "      <td>0.445405</td>\n",
       "      <td>8.836248e-18</td>\n",
       "      <td>390.847530</td>\n",
       "      <td>32.151661</td>\n",
       "      <td>87.561082</td>\n",
       "      <td>-55.409421</td>\n",
       "      <td>-0.462853</td>\n",
       "    </tr>\n",
       "    <tr>\n",
       "      <th>1</th>\n",
       "      <td>0</td>\n",
       "      <td>09:40:06</td>\n",
       "      <td>0</td>\n",
       "      <td>1</td>\n",
       "      <td>0.078534</td>\n",
       "      <td>-0.822350</td>\n",
       "      <td>-0.820359</td>\n",
       "      <td>-0.188736</td>\n",
       "      <td>-0.994560</td>\n",
       "      <td>-1.345968</td>\n",
       "      <td>...</td>\n",
       "      <td>3.027714</td>\n",
       "      <td>1.613805</td>\n",
       "      <td>1.344113</td>\n",
       "      <td>0.445405</td>\n",
       "      <td>3.361027e-17</td>\n",
       "      <td>373.334714</td>\n",
       "      <td>22.236818</td>\n",
       "      <td>87.334239</td>\n",
       "      <td>-65.097421</td>\n",
       "      <td>-0.594111</td>\n",
       "    </tr>\n",
       "    <tr>\n",
       "      <th>2</th>\n",
       "      <td>0</td>\n",
       "      <td>09:40:09</td>\n",
       "      <td>0</td>\n",
       "      <td>1</td>\n",
       "      <td>0.681416</td>\n",
       "      <td>-0.727483</td>\n",
       "      <td>-0.912023</td>\n",
       "      <td>0.380224</td>\n",
       "      <td>-0.994000</td>\n",
       "      <td>-0.494495</td>\n",
       "      <td>...</td>\n",
       "      <td>3.027714</td>\n",
       "      <td>1.613805</td>\n",
       "      <td>1.344113</td>\n",
       "      <td>0.445405</td>\n",
       "      <td>1.610040e-17</td>\n",
       "      <td>385.955790</td>\n",
       "      <td>28.973800</td>\n",
       "      <td>87.674945</td>\n",
       "      <td>-58.701145</td>\n",
       "      <td>-0.503230</td>\n",
       "    </tr>\n",
       "  </tbody>\n",
       "</table>\n",
       "<p>3 rows × 129 columns</p>\n",
       "</div>"
      ],
      "text/plain": [
       "   date      time  sym  morning    SOIR_1    SOIR_2    SOIR_3    SOIR_4  \\\n",
       "0     0  09:40:03    0        1  0.761194 -0.552239 -0.905512  0.394439   \n",
       "1     0  09:40:06    0        1  0.078534 -0.822350 -0.820359 -0.188736   \n",
       "2     0  09:40:09    0        1  0.681416 -0.727483 -0.912023  0.380224   \n",
       "\n",
       "     SOIR_5      SOIR  ...  MPC_skew_4  MPC_skew_5       MAX       RSJ  \\\n",
       "0 -0.993958 -0.264920  ...    3.027714    1.613805  1.344113  0.445405   \n",
       "1 -0.994560 -1.345968  ...    3.027714    1.613805  1.344113  0.445405   \n",
       "2 -0.994000 -0.494495  ...    3.027714    1.613805  1.344113  0.445405   \n",
       "\n",
       "     Dispersion    AVEslope  slope_ask  slope_bid  slope_diff  patience_all  \n",
       "0  8.836248e-18  390.847530  32.151661  87.561082  -55.409421     -0.462853  \n",
       "1  3.361027e-17  373.334714  22.236818  87.334239  -65.097421     -0.594111  \n",
       "2  1.610040e-17  385.955790  28.973800  87.674945  -58.701145     -0.503230  \n",
       "\n",
       "[3 rows x 129 columns]"
      ]
     },
     "execution_count": 46,
     "metadata": {},
     "output_type": "execute_result"
    }
   ],
   "source": [
    "raw_feature_df = pd.read_parquet('./original.parquet')\n",
    "raw_feature_df.reset_index(inplace=True,drop=True)\n",
    "raw_feature_df.head(3)"
   ]
  },
  {
   "cell_type": "code",
   "execution_count": null,
   "metadata": {},
   "outputs": [],
   "source": [
    "raw_features = raw_feature_df.columns.tolist()[4:]"
   ]
  },
  {
   "cell_type": "code",
   "execution_count": null,
   "metadata": {},
   "outputs": [],
   "source": [
    "import pandas as pd\n",
    "import statsmodels.api as sm\n",
    "\n",
    "def check_random_walk(df):\n",
    "    for col in df.columns:\n",
    "        # 对每列进行ADF检验\n",
    "        result = sm.tsa.stattools.adfuller(df[col])\n",
    "        print('Column:', col)\n",
    "        print('ADF Statistic: %f' % result[0])\n",
    "        print('p-value: %f' % result[1])\n",
    "        print('Critical Values:')\n",
    "        for key, value in result[4].items():\n",
    "            print('\\t%s: %.3f' % (key, value))"
   ]
  },
  {
   "cell_type": "code",
   "execution_count": 17,
   "metadata": {},
   "outputs": [
    {
     "name": "stderr",
     "output_type": "stream",
     "text": [
      "  0%|          | 0/125 [00:00<?, ?it/s]"
     ]
    },
    {
     "name": "stderr",
     "output_type": "stream",
     "text": [
      "100%|██████████| 125/125 [01:48<00:00,  1.15it/s]\n"
     ]
    }
   ],
   "source": [
    "\n",
    "import statsmodels.api as sm\n",
    "\n",
    "features_cols = raw_feature_df.columns.tolist()[4:]\n",
    "tmp_df = raw_feature_df.query('date==0')\n",
    "need_diff_cols = []\n",
    "for col in tqdm(features_cols):\n",
    "    result = sm.tsa.stattools.adfuller(tmp_df[col].dropna())    \n",
    "    # print(f'{col}: ADF Statistic: %f' % result[0], 'p-value: %f' % result[1])\n",
    "    if result[1] > 0.05:\n",
    "        need_diff_cols.append(col)\n"
   ]
  },
  {
   "cell_type": "code",
   "execution_count": 65,
   "metadata": {},
   "outputs": [],
   "source": [
    "need_diff_cols = ['PD_Bid', 'PD_Ask', 'AD_p', 'CD_p_1', 'CD_p_2', 'CD_p_3', 'CD_p_4',\n",
    " 'CD_p_5', 'PD_bid_1_2', 'PD_bid_1_3', 'PD_bid_1_4','PD_bid_1_5', 'PD_ask_1_2', 'PD_ask_1_3',\n",
    " 'PD_ask_1_4', 'PD_ask_1_5', 'PD_diff_bid_1', 'PD_diff_bid_2', 'PD_diff_bid_3', 'PD_diff_bid_4',\n",
    " 'PD_diff_ask_1', 'PD_diff_ask_2', 'PD_diff_ask_3', 'PD_diff_ask_4', 'VWAP_ask_4', 'VWAP_ask_5',\n",
    " 'VWAP_diff_bid_1', 'VWAP_diff_bid_2', 'VWAP_diff_bid_3', 'VWAP_diff_bid_4', 'VWAP_diff_bid_5',\n",
    " 'VWAP_diff_ask_1', 'VWAP_diff_ask_2', 'VWAP_diff_ask_3', 'VWAP_diff_ask_4', 'VWAP_diff_ask_5',\n",
    " 'MPC_max_1', 'MPC_max_2', 'MPC_max_3', 'MPC_max_4', 'MPC_max_5', 'MPC_skew_1', 'MPC_skew_2',\n",
    " 'MPC_skew_3', 'MPC_skew_4', 'MPC_skew_5', 'MAX', 'RSJ']"
   ]
  },
  {
   "cell_type": "markdown",
   "metadata": {},
   "source": [
    "# 生成特征"
   ]
  },
  {
   "cell_type": "code",
   "execution_count": 66,
   "metadata": {},
   "outputs": [],
   "source": [
    "raw_feature_df[['date', 'sym']] = raw_feature_df[['date', 'sym']].astype(str)\n",
    "raw_feature_df['date_sym'] = raw_feature_df['date'] + '_' + raw_feature_df['sym']\n",
    "df = raw_feature_df[['date_sym','time'] + features_cols]\n",
    "df.reset_index(drop=True, inplace=True)"
   ]
  },
  {
   "cell_type": "code",
   "execution_count": 67,
   "metadata": {},
   "outputs": [],
   "source": [
    "chunk_size = 10\n",
    "sub_feature_cols = [features_cols[i:i+chunk_size] for i in range(0, len(features_cols), chunk_size)]\n",
    "sub_dfs = [df[['date_sym','time'] + sub_feature_col].copy() for sub_feature_col in sub_feature_cols]"
   ]
  },
  {
   "cell_type": "code",
   "execution_count": 70,
   "metadata": {},
   "outputs": [],
   "source": [
    "import contextlib\n",
    "from io import StringIO\n",
    "\n",
    "def calc_features(factor_df):\n",
    "    need_diff_cols = ['PD_Bid', 'PD_Ask', 'AD_p', 'CD_p_1', 'CD_p_2', 'CD_p_3', 'CD_p_4',\n",
    "        'CD_p_5', 'PD_bid_1_2', 'PD_bid_1_3', 'PD_bid_1_4','PD_bid_1_5', 'PD_ask_1_2', 'PD_ask_1_3',\n",
    "        'PD_ask_1_4', 'PD_ask_1_5', 'PD_diff_bid_1', 'PD_diff_bid_2', 'PD_diff_bid_3', 'PD_diff_bid_4',\n",
    "        'PD_diff_ask_1', 'PD_diff_ask_2', 'PD_diff_ask_3', 'PD_diff_ask_4', 'VWAP_ask_4', 'VWAP_ask_5',\n",
    "        'VWAP_diff_bid_1', 'VWAP_diff_bid_2', 'VWAP_diff_bid_3', 'VWAP_diff_bid_4', 'VWAP_diff_bid_5',\n",
    "        'VWAP_diff_ask_1', 'VWAP_diff_ask_2', 'VWAP_diff_ask_3', 'VWAP_diff_ask_4', 'VWAP_diff_ask_5',\n",
    "        'MPC_max_1', 'MPC_max_2', 'MPC_max_3', 'MPC_max_4', 'MPC_max_5', 'MPC_skew_1', 'MPC_skew_2',\n",
    "        'MPC_skew_3', 'MPC_skew_4', 'MPC_skew_5', 'MAX', 'RSJ']\n",
    "    feature_cols = factor_df.columns.tolist()[2:]\n",
    "    for col in feature_cols:\n",
    "        with contextlib.redirect_stdout(StringIO()):        \n",
    "            if col in need_diff_cols:\n",
    "                factor_df = TSFeatureEngineer.momentum_feature(factor_df, col, 'date_sym', 'time',window=[5,10,20,60,120],delta='diff')\n",
    "            else:\n",
    "                factor_df = TSFeatureEngineer.momentum_feature(factor_df, col, 'date_sym', 'time',window=[5,10,20,60,120],delta=None)\n",
    "        factor_df = factor_df.loc[:, ~factor_df.columns.duplicated()]\n",
    "    return factor_df[factor_df.columns.tolist()[2:]]"
   ]
  },
  {
   "cell_type": "code",
   "execution_count": 71,
   "metadata": {},
   "outputs": [
    {
     "name": "stderr",
     "output_type": "stream",
     "text": [
      "100%|██████████| 13/13 [09:07<00:00, 42.11s/it]  \n"
     ]
    }
   ],
   "source": [
    "ncpu = cpu_count() // 2\n",
    "with Pool(ncpu) as p:\n",
    "    rst_dfs = list(tqdm(p.imap(calc_features, sub_dfs), total=len(sub_dfs)))"
   ]
  },
  {
   "cell_type": "code",
   "execution_count": 76,
   "metadata": {},
   "outputs": [],
   "source": [
    "\n",
    "df = pd.concat(rst_dfs, axis=1, ignore_index=True)\n"
   ]
  },
  {
   "cell_type": "code",
   "execution_count": 83,
   "metadata": {},
   "outputs": [],
   "source": [
    "column_names = list(chain.from_iterable([_df.columns.tolist() for _df in rst_dfs]))\n",
    "df.columns = column_names\n",
    "df = pd.concat([\n",
    "    raw_feature_df[['date','time', 'sym']], df    \n",
    "],axis=1)\n",
    "df.to_parquet(os.path.join(data_path,'all_features.parquet'))\n"
   ]
  },
  {
   "cell_type": "markdown",
   "metadata": {},
   "source": [
    "# 筛选特征"
   ]
  },
  {
   "cell_type": "code",
   "execution_count": 2,
   "metadata": {},
   "outputs": [],
   "source": [
    "df = pd.read_parquet(os.path.join(data_path,'all_features.parquet'))"
   ]
  },
  {
   "cell_type": "code",
   "execution_count": 4,
   "metadata": {},
   "outputs": [],
   "source": [
    "na_info = df.isna().mean()\n",
    "df = df[na_info[na_info < 0.1].index.tolist()]\n"
   ]
  },
  {
   "cell_type": "code",
   "execution_count": 10,
   "metadata": {},
   "outputs": [],
   "source": [
    "from glob import glob\n",
    "target_df = pd.concat([pd.read_csv(f) for f in glob(os.path.join(data_path,'raw_data/train/*'))])\n",
    "target_cols =  ['label_5', 'label_10', 'label_20', 'label_40','label_60']\n",
    "target_df.reset_index(drop=True, inplace=True)"
   ]
  },
  {
   "cell_type": "code",
   "execution_count": 11,
   "metadata": {},
   "outputs": [],
   "source": [
    "df = df.merge(target_df[['date','time','sym'] + target_cols], on=['date','time','sym'], how='left')\n",
    "# df = pd.concat([df, target_df], axis=1)"
   ]
  },
  {
   "cell_type": "code",
   "execution_count": null,
   "metadata": {},
   "outputs": [],
   "source": [
    "params = {\n",
    "    'objective': 'multiclass',  # 多分类任务\n",
    "    'num_class': 3,  # 类别数，这里是三分类任务\n",
    "    'metric': 'multi_logloss',  # 多分类损失函数\n",
    "    'boosting_type': 'gbdt',\n",
    "    'num_leaves': 31,\n",
    "    'learning_rate': 0.05,\n",
    "    'feature_fraction': 0.9\n",
    "}"
   ]
  },
  {
   "cell_type": "code",
   "execution_count": 23,
   "metadata": {},
   "outputs": [],
   "source": [
    "features_cols = df.columns.tolist()[3:-5]"
   ]
  },
  {
   "cell_type": "code",
   "execution_count": 32,
   "metadata": {},
   "outputs": [],
   "source": [
    "# 分离特征和目标\n",
    "# 避免列名中含有 () 或 _ \n",
    "feature2num = {col: i for i, col in enumerate(features_cols)}\n",
    "num2feature = {i: col for i, col in enumerate(features_cols)}\n",
    "df.rename(columns=feature2num, inplace=True)\n",
    "\n",
    "new_feature_cols = list(range(len(features_cols)))"
   ]
  },
  {
   "cell_type": "code",
   "execution_count": 33,
   "metadata": {},
   "outputs": [],
   "source": [
    "\n",
    "from sklearn.model_selection import train_test_split\n",
    "target = target_cols[0]\n",
    "X = df[new_feature_cols]\n",
    "y = df[target]\n",
    "X_train, X_val, y_train, y_val = train_test_split(X, y, test_size=0.2, shuffle=False)\n",
    "\n",
    "trn_dataset = lgb.Dataset(X_train, label=y_train)\n",
    "val_dataset = lgb.Dataset(X_val, label=y_val)"
   ]
  },
  {
   "cell_type": "code",
   "execution_count": 34,
   "metadata": {},
   "outputs": [
    {
     "name": "stdout",
     "output_type": "stream",
     "text": [
      "[LightGBM] [Warning] Auto-choosing col-wise multi-threading, the overhead of testing was 8.499527 seconds.\n",
      "You can set `force_col_wise=true` to remove the overhead.\n",
      "[LightGBM] [Info] Total Bins 608151\n",
      "[LightGBM] [Info] Number of data points in the train set: 1959020, number of used features: 3046\n",
      "[LightGBM] [Info] Start training from score -1.865817\n",
      "[LightGBM] [Info] Start training from score -0.370680\n",
      "[LightGBM] [Info] Start training from score -1.864554\n",
      "[1]\tvalid_0's multi_logloss: 0.733296\n",
      "[2]\tvalid_0's multi_logloss: 0.725076\n",
      "[3]\tvalid_0's multi_logloss: 0.717464\n",
      "[4]\tvalid_0's multi_logloss: 0.710515\n",
      "[5]\tvalid_0's multi_logloss: 0.704341\n",
      "[6]\tvalid_0's multi_logloss: 0.698603\n",
      "[7]\tvalid_0's multi_logloss: 0.692854\n",
      "[8]\tvalid_0's multi_logloss: 0.687818\n",
      "[9]\tvalid_0's multi_logloss: 0.68287\n",
      "[10]\tvalid_0's multi_logloss: 0.67884\n",
      "[11]\tvalid_0's multi_logloss: 0.674537\n",
      "[12]\tvalid_0's multi_logloss: 0.670253\n",
      "[13]\tvalid_0's multi_logloss: 0.666895\n",
      "[14]\tvalid_0's multi_logloss: 0.663846\n",
      "[15]\tvalid_0's multi_logloss: 0.660547\n",
      "[16]\tvalid_0's multi_logloss: 0.657872\n",
      "[17]\tvalid_0's multi_logloss: 0.655342\n",
      "[18]\tvalid_0's multi_logloss: 0.652853\n",
      "[19]\tvalid_0's multi_logloss: 0.650561\n",
      "[20]\tvalid_0's multi_logloss: 0.6485\n",
      "[21]\tvalid_0's multi_logloss: 0.646372\n",
      "[22]\tvalid_0's multi_logloss: 0.644518\n",
      "[23]\tvalid_0's multi_logloss: 0.642693\n",
      "[24]\tvalid_0's multi_logloss: 0.641059\n",
      "[25]\tvalid_0's multi_logloss: 0.639302\n",
      "[26]\tvalid_0's multi_logloss: 0.637814\n",
      "[27]\tvalid_0's multi_logloss: 0.636329\n",
      "[28]\tvalid_0's multi_logloss: 0.634922\n",
      "[29]\tvalid_0's multi_logloss: 0.63352\n",
      "[30]\tvalid_0's multi_logloss: 0.632161\n",
      "[31]\tvalid_0's multi_logloss: 0.631003\n",
      "[32]\tvalid_0's multi_logloss: 0.629855\n",
      "[33]\tvalid_0's multi_logloss: 0.62886\n",
      "[34]\tvalid_0's multi_logloss: 0.627749\n",
      "[35]\tvalid_0's multi_logloss: 0.62675\n",
      "[36]\tvalid_0's multi_logloss: 0.625742\n",
      "[37]\tvalid_0's multi_logloss: 0.624876\n",
      "[38]\tvalid_0's multi_logloss: 0.624051\n",
      "[39]\tvalid_0's multi_logloss: 0.623308\n",
      "[40]\tvalid_0's multi_logloss: 0.622522\n",
      "[41]\tvalid_0's multi_logloss: 0.621767\n",
      "[42]\tvalid_0's multi_logloss: 0.62094\n",
      "[43]\tvalid_0's multi_logloss: 0.620276\n",
      "[44]\tvalid_0's multi_logloss: 0.619566\n",
      "[45]\tvalid_0's multi_logloss: 0.618869\n",
      "[46]\tvalid_0's multi_logloss: 0.618188\n",
      "[47]\tvalid_0's multi_logloss: 0.617599\n",
      "[48]\tvalid_0's multi_logloss: 0.616942\n",
      "[49]\tvalid_0's multi_logloss: 0.616263\n",
      "[50]\tvalid_0's multi_logloss: 0.615581\n",
      "[51]\tvalid_0's multi_logloss: 0.615044\n",
      "[52]\tvalid_0's multi_logloss: 0.614501\n",
      "[53]\tvalid_0's multi_logloss: 0.614036\n",
      "[54]\tvalid_0's multi_logloss: 0.613552\n",
      "[55]\tvalid_0's multi_logloss: 0.613133\n",
      "[56]\tvalid_0's multi_logloss: 0.612631\n",
      "[57]\tvalid_0's multi_logloss: 0.612164\n",
      "[58]\tvalid_0's multi_logloss: 0.611788\n",
      "[59]\tvalid_0's multi_logloss: 0.611387\n",
      "[60]\tvalid_0's multi_logloss: 0.610953\n",
      "[61]\tvalid_0's multi_logloss: 0.61058\n",
      "[62]\tvalid_0's multi_logloss: 0.610179\n",
      "[63]\tvalid_0's multi_logloss: 0.609819\n",
      "[64]\tvalid_0's multi_logloss: 0.609433\n",
      "[65]\tvalid_0's multi_logloss: 0.60903\n",
      "[66]\tvalid_0's multi_logloss: 0.608675\n",
      "[67]\tvalid_0's multi_logloss: 0.608329\n",
      "[68]\tvalid_0's multi_logloss: 0.607994\n",
      "[69]\tvalid_0's multi_logloss: 0.607707\n",
      "[70]\tvalid_0's multi_logloss: 0.607439\n",
      "[71]\tvalid_0's multi_logloss: 0.60723\n",
      "[72]\tvalid_0's multi_logloss: 0.606952\n",
      "[73]\tvalid_0's multi_logloss: 0.606652\n",
      "[74]\tvalid_0's multi_logloss: 0.606418\n",
      "[75]\tvalid_0's multi_logloss: 0.606135\n",
      "[76]\tvalid_0's multi_logloss: 0.605888\n",
      "[77]\tvalid_0's multi_logloss: 0.605603\n",
      "[78]\tvalid_0's multi_logloss: 0.605279\n",
      "[79]\tvalid_0's multi_logloss: 0.605046\n",
      "[80]\tvalid_0's multi_logloss: 0.604836\n",
      "[81]\tvalid_0's multi_logloss: 0.604593\n",
      "[82]\tvalid_0's multi_logloss: 0.604304\n",
      "[83]\tvalid_0's multi_logloss: 0.604114\n",
      "[84]\tvalid_0's multi_logloss: 0.60389\n",
      "[85]\tvalid_0's multi_logloss: 0.603693\n",
      "[86]\tvalid_0's multi_logloss: 0.6035\n",
      "[87]\tvalid_0's multi_logloss: 0.603299\n",
      "[88]\tvalid_0's multi_logloss: 0.60311\n",
      "[89]\tvalid_0's multi_logloss: 0.602933\n",
      "[90]\tvalid_0's multi_logloss: 0.602771\n",
      "[91]\tvalid_0's multi_logloss: 0.602525\n",
      "[92]\tvalid_0's multi_logloss: 0.602367\n",
      "[93]\tvalid_0's multi_logloss: 0.60219\n",
      "[94]\tvalid_0's multi_logloss: 0.601998\n",
      "[95]\tvalid_0's multi_logloss: 0.601821\n",
      "[96]\tvalid_0's multi_logloss: 0.601655\n",
      "[97]\tvalid_0's multi_logloss: 0.601487\n",
      "[98]\tvalid_0's multi_logloss: 0.601333\n",
      "[99]\tvalid_0's multi_logloss: 0.601148\n",
      "[100]\tvalid_0's multi_logloss: 0.601031\n",
      "[101]\tvalid_0's multi_logloss: 0.600875\n",
      "[102]\tvalid_0's multi_logloss: 0.600764\n",
      "[103]\tvalid_0's multi_logloss: 0.600647\n",
      "[104]\tvalid_0's multi_logloss: 0.600534\n",
      "[105]\tvalid_0's multi_logloss: 0.600387\n",
      "[106]\tvalid_0's multi_logloss: 0.600319\n",
      "[107]\tvalid_0's multi_logloss: 0.600173\n",
      "[108]\tvalid_0's multi_logloss: 0.600071\n",
      "[109]\tvalid_0's multi_logloss: 0.599917\n",
      "[110]\tvalid_0's multi_logloss: 0.599777\n",
      "[111]\tvalid_0's multi_logloss: 0.599648\n",
      "[112]\tvalid_0's multi_logloss: 0.599482\n",
      "[113]\tvalid_0's multi_logloss: 0.599319\n",
      "[114]\tvalid_0's multi_logloss: 0.599186\n",
      "[115]\tvalid_0's multi_logloss: 0.599076\n",
      "[116]\tvalid_0's multi_logloss: 0.599\n",
      "[117]\tvalid_0's multi_logloss: 0.598935\n",
      "[118]\tvalid_0's multi_logloss: 0.598837\n",
      "[119]\tvalid_0's multi_logloss: 0.598644\n",
      "[120]\tvalid_0's multi_logloss: 0.598563\n",
      "[121]\tvalid_0's multi_logloss: 0.598474\n",
      "[122]\tvalid_0's multi_logloss: 0.598361\n",
      "[123]\tvalid_0's multi_logloss: 0.598279\n",
      "[124]\tvalid_0's multi_logloss: 0.598181\n",
      "[125]\tvalid_0's multi_logloss: 0.598106\n",
      "[126]\tvalid_0's multi_logloss: 0.598034\n",
      "[127]\tvalid_0's multi_logloss: 0.597991\n",
      "[128]\tvalid_0's multi_logloss: 0.597849\n",
      "[129]\tvalid_0's multi_logloss: 0.597796\n",
      "[130]\tvalid_0's multi_logloss: 0.597679\n",
      "[131]\tvalid_0's multi_logloss: 0.597626\n",
      "[132]\tvalid_0's multi_logloss: 0.597545\n",
      "[133]\tvalid_0's multi_logloss: 0.597453\n",
      "[134]\tvalid_0's multi_logloss: 0.597417\n",
      "[135]\tvalid_0's multi_logloss: 0.597337\n",
      "[136]\tvalid_0's multi_logloss: 0.59722\n",
      "[137]\tvalid_0's multi_logloss: 0.59714\n",
      "[138]\tvalid_0's multi_logloss: 0.597081\n",
      "[139]\tvalid_0's multi_logloss: 0.597017\n",
      "[140]\tvalid_0's multi_logloss: 0.596962\n",
      "[141]\tvalid_0's multi_logloss: 0.596845\n",
      "[142]\tvalid_0's multi_logloss: 0.596766\n",
      "[143]\tvalid_0's multi_logloss: 0.596704\n",
      "[144]\tvalid_0's multi_logloss: 0.596608\n",
      "[145]\tvalid_0's multi_logloss: 0.596516\n",
      "[146]\tvalid_0's multi_logloss: 0.596445\n",
      "[147]\tvalid_0's multi_logloss: 0.596399\n",
      "[148]\tvalid_0's multi_logloss: 0.596317\n",
      "[149]\tvalid_0's multi_logloss: 0.596269\n",
      "[150]\tvalid_0's multi_logloss: 0.596207\n",
      "[151]\tvalid_0's multi_logloss: 0.596143\n",
      "[152]\tvalid_0's multi_logloss: 0.596085\n",
      "[153]\tvalid_0's multi_logloss: 0.595988\n",
      "[154]\tvalid_0's multi_logloss: 0.595938\n",
      "[155]\tvalid_0's multi_logloss: 0.595898\n",
      "[156]\tvalid_0's multi_logloss: 0.595845\n",
      "[157]\tvalid_0's multi_logloss: 0.595797\n",
      "[158]\tvalid_0's multi_logloss: 0.595791\n",
      "[159]\tvalid_0's multi_logloss: 0.595751\n",
      "[160]\tvalid_0's multi_logloss: 0.595711\n",
      "[161]\tvalid_0's multi_logloss: 0.595675\n",
      "[162]\tvalid_0's multi_logloss: 0.59562\n",
      "[163]\tvalid_0's multi_logloss: 0.595557\n",
      "[164]\tvalid_0's multi_logloss: 0.595512\n",
      "[165]\tvalid_0's multi_logloss: 0.595477\n",
      "[166]\tvalid_0's multi_logloss: 0.595452\n",
      "[167]\tvalid_0's multi_logloss: 0.595393\n",
      "[168]\tvalid_0's multi_logloss: 0.595335\n",
      "[169]\tvalid_0's multi_logloss: 0.595288\n",
      "[170]\tvalid_0's multi_logloss: 0.595277\n",
      "[171]\tvalid_0's multi_logloss: 0.595192\n",
      "[172]\tvalid_0's multi_logloss: 0.595155\n",
      "[173]\tvalid_0's multi_logloss: 0.595101\n",
      "[174]\tvalid_0's multi_logloss: 0.595079\n",
      "[175]\tvalid_0's multi_logloss: 0.595051\n",
      "[176]\tvalid_0's multi_logloss: 0.595011\n",
      "[177]\tvalid_0's multi_logloss: 0.594991\n",
      "[178]\tvalid_0's multi_logloss: 0.594939\n",
      "[179]\tvalid_0's multi_logloss: 0.594914\n",
      "[180]\tvalid_0's multi_logloss: 0.594877\n",
      "[181]\tvalid_0's multi_logloss: 0.594844\n",
      "[182]\tvalid_0's multi_logloss: 0.594814\n",
      "[183]\tvalid_0's multi_logloss: 0.594764\n",
      "[184]\tvalid_0's multi_logloss: 0.594734\n",
      "[185]\tvalid_0's multi_logloss: 0.594684\n",
      "[186]\tvalid_0's multi_logloss: 0.594655\n",
      "[187]\tvalid_0's multi_logloss: 0.594629\n",
      "[188]\tvalid_0's multi_logloss: 0.594632\n",
      "[189]\tvalid_0's multi_logloss: 0.594602\n",
      "[190]\tvalid_0's multi_logloss: 0.59457\n",
      "[191]\tvalid_0's multi_logloss: 0.594556\n",
      "[192]\tvalid_0's multi_logloss: 0.594542\n",
      "[193]\tvalid_0's multi_logloss: 0.594502\n",
      "[194]\tvalid_0's multi_logloss: 0.594487\n",
      "[195]\tvalid_0's multi_logloss: 0.594434\n",
      "[196]\tvalid_0's multi_logloss: 0.594411\n",
      "[197]\tvalid_0's multi_logloss: 0.594384\n",
      "[198]\tvalid_0's multi_logloss: 0.594367\n",
      "[199]\tvalid_0's multi_logloss: 0.594366\n",
      "[200]\tvalid_0's multi_logloss: 0.594328\n"
     ]
    }
   ],
   "source": [
    "# 定义LightGBM的参数\n",
    "params = {\n",
    "    'objective': 'multiclass',  # 多分类任务\n",
    "    'num_class': 3,  # 类别数，这里是三分类任务\n",
    "    'metric': 'multi_logloss',  # 多分类损失函数\n",
    "    'boosting_type': 'gbdt',\n",
    "    'num_leaves': 31,\n",
    "    'learning_rate': 0.05,\n",
    "    'feature_fraction': 0.9,\n",
    "    'n_estimators': 200\n",
    "}\n",
    "num_round = 200\n",
    "bst = lgb.train(params, train_set=trn_dataset, valid_sets=[val_dataset],num_boost_round = num_round)\n"
   ]
  },
  {
   "cell_type": "code",
   "execution_count": 37,
   "metadata": {},
   "outputs": [
    {
     "data": {
      "text/plain": [
       "0.7652601811109636"
      ]
     },
     "execution_count": 37,
     "metadata": {},
     "output_type": "execute_result"
    }
   ],
   "source": [
    "y_pred = bst.predict(X_val, num_iteration=bst.best_iteration)\n",
    "y_pred_max = [np.argmax(pred) for pred in y_pred]\n",
    "accuracy = accuracy_score(y_val, y_pred_max)\n"
   ]
  },
  {
   "cell_type": "code",
   "execution_count": 39,
   "metadata": {},
   "outputs": [],
   "source": [
    "feature_importance = bst.feature_importance(importance_type='split')\n",
    "importance_df = pd.DataFrame({'Feature': X.columns, 'Importance': feature_importance})\n"
   ]
  },
  {
   "cell_type": "code",
   "execution_count": 51,
   "metadata": {},
   "outputs": [],
   "source": [
    "importance_df.sort_values(by='Importance', ascending=False,inplace=True)\n",
    "importance_df['FeatureName'] = importance_df['Feature'].map(num2feature)\n",
    "importance_df.query('Importance > 10',inplace=True)"
   ]
  },
  {
   "cell_type": "code",
   "execution_count": 57,
   "metadata": {},
   "outputs": [],
   "source": [
    "important_feature = importance_df.FeatureName.tolist()\n",
    "important_feature = list(set(important_feature) - set(raw_features))\n"
   ]
  },
  {
   "cell_type": "code",
   "execution_count": 59,
   "metadata": {},
   "outputs": [],
   "source": [
    "\n",
    "df.rename(columns=num2feature, inplace=True)\n",
    "df[['date','time','sym'] + important_feature].to_parquet(os.path.join(data_path,'important_features.parquet'))\n",
    "# important_feature"
   ]
  }
 ],
 "metadata": {
  "kernelspec": {
   "display_name": "finance311",
   "language": "python",
   "name": "python3"
  },
  "language_info": {
   "codemirror_mode": {
    "name": "ipython",
    "version": 3
   },
   "file_extension": ".py",
   "mimetype": "text/x-python",
   "name": "python",
   "nbconvert_exporter": "python",
   "pygments_lexer": "ipython3",
   "version": "3.11.5"
  }
 },
 "nbformat": 4,
 "nbformat_minor": 2
}
